{
 "cells": [
  {
   "cell_type": "code",
   "execution_count": 5,
   "id": "e0d0d28a-7763-4009-b6e9-5cedab95f50b",
   "metadata": {},
   "outputs": [
    {
     "name": "stdout",
     "output_type": "stream",
     "text": [
      "Requirement already satisfied: pandas in c:\\anaconda\\lib\\site-packages (2.2.2)Note: you may need to restart the kernel to use updated packages.\n",
      "\n",
      "Requirement already satisfied: numpy in c:\\anaconda\\lib\\site-packages (1.26.4)\n",
      "Requirement already satisfied: nltk in c:\\anaconda\\lib\\site-packages (3.8.1)\n",
      "Requirement already satisfied: scikit-learn in c:\\anaconda\\lib\\site-packages (1.4.2)\n",
      "Requirement already satisfied: matplotlib in c:\\anaconda\\lib\\site-packages (3.8.4)\n",
      "Requirement already satisfied: seaborn in c:\\anaconda\\lib\\site-packages (0.13.2)\n",
      "Collecting wordcloud\n",
      "  Downloading wordcloud-1.9.4-cp312-cp312-win_amd64.whl.metadata (3.5 kB)\n",
      "Requirement already satisfied: python-dateutil>=2.8.2 in c:\\anaconda\\lib\\site-packages (from pandas) (2.9.0.post0)\n",
      "Requirement already satisfied: pytz>=2020.1 in c:\\anaconda\\lib\\site-packages (from pandas) (2024.1)\n",
      "Requirement already satisfied: tzdata>=2022.7 in c:\\anaconda\\lib\\site-packages (from pandas) (2023.3)\n",
      "Requirement already satisfied: click in c:\\anaconda\\lib\\site-packages (from nltk) (8.1.7)\n",
      "Requirement already satisfied: joblib in c:\\anaconda\\lib\\site-packages (from nltk) (1.4.2)\n",
      "Requirement already satisfied: regex>=2021.8.3 in c:\\anaconda\\lib\\site-packages (from nltk) (2023.10.3)\n",
      "Requirement already satisfied: tqdm in c:\\anaconda\\lib\\site-packages (from nltk) (4.66.4)\n",
      "Requirement already satisfied: scipy>=1.6.0 in c:\\anaconda\\lib\\site-packages (from scikit-learn) (1.13.1)\n",
      "Requirement already satisfied: threadpoolctl>=2.0.0 in c:\\anaconda\\lib\\site-packages (from scikit-learn) (2.2.0)\n",
      "Requirement already satisfied: contourpy>=1.0.1 in c:\\anaconda\\lib\\site-packages (from matplotlib) (1.2.0)\n",
      "Requirement already satisfied: cycler>=0.10 in c:\\anaconda\\lib\\site-packages (from matplotlib) (0.11.0)\n",
      "Requirement already satisfied: fonttools>=4.22.0 in c:\\anaconda\\lib\\site-packages (from matplotlib) (4.51.0)\n",
      "Requirement already satisfied: kiwisolver>=1.3.1 in c:\\anaconda\\lib\\site-packages (from matplotlib) (1.4.4)\n",
      "Requirement already satisfied: packaging>=20.0 in c:\\anaconda\\lib\\site-packages (from matplotlib) (23.2)\n",
      "Requirement already satisfied: pillow>=8 in c:\\anaconda\\lib\\site-packages (from matplotlib) (10.3.0)\n",
      "Requirement already satisfied: pyparsing>=2.3.1 in c:\\anaconda\\lib\\site-packages (from matplotlib) (3.0.9)\n",
      "Requirement already satisfied: six>=1.5 in c:\\anaconda\\lib\\site-packages (from python-dateutil>=2.8.2->pandas) (1.16.0)\n",
      "Requirement already satisfied: colorama in c:\\anaconda\\lib\\site-packages (from click->nltk) (0.4.6)\n",
      "Downloading wordcloud-1.9.4-cp312-cp312-win_amd64.whl (301 kB)\n",
      "   ---------------------------------------- 0.0/301.2 kB ? eta -:--:--\n",
      "   - -------------------------------------- 10.2/301.2 kB ? eta -:--:--\n",
      "   -- ------------------------------------ 20.5/301.2 kB 330.3 kB/s eta 0:00:01\n",
      "   ------ -------------------------------- 51.2/301.2 kB 440.4 kB/s eta 0:00:01\n",
      "   ------------ ------------------------- 102.4/301.2 kB 845.5 kB/s eta 0:00:01\n",
      "   ------------------------------- -------- 235.5/301.2 kB 1.2 MB/s eta 0:00:01\n",
      "   ---------------------------------------  297.0/301.2 kB 1.2 MB/s eta 0:00:01\n",
      "   ---------------------------------------- 301.2/301.2 kB 1.0 MB/s eta 0:00:00\n",
      "Installing collected packages: wordcloud\n",
      "Successfully installed wordcloud-1.9.4\n"
     ]
    }
   ],
   "source": [
    "pip install pandas numpy nltk scikit-learn matplotlib seaborn wordcloud\n"
   ]
  },
  {
   "cell_type": "code",
   "execution_count": 132,
   "id": "b3a4ad20-a947-4b30-8715-bf5216399f53",
   "metadata": {},
   "outputs": [
    {
     "ename": "ModuleNotFoundError",
     "evalue": "No module named 'keras.preprocessing.text'",
     "output_type": "error",
     "traceback": [
      "\u001b[1;31m---------------------------------------------------------------------------\u001b[0m",
      "\u001b[1;31mModuleNotFoundError\u001b[0m                       Traceback (most recent call last)",
      "Cell \u001b[1;32mIn[132], line 2\u001b[0m\n\u001b[0;32m      1\u001b[0m \u001b[38;5;28;01mfrom\u001b[39;00m \u001b[38;5;21;01msklearn\u001b[39;00m\u001b[38;5;21;01m.\u001b[39;00m\u001b[38;5;21;01mfeature_extraction\u001b[39;00m\u001b[38;5;21;01m.\u001b[39;00m\u001b[38;5;21;01mtext\u001b[39;00m \u001b[38;5;28;01mimport\u001b[39;00m CountVectorizer\n\u001b[1;32m----> 2\u001b[0m \u001b[38;5;28;01mfrom\u001b[39;00m \u001b[38;5;21;01mkeras\u001b[39;00m\u001b[38;5;21;01m.\u001b[39;00m\u001b[38;5;21;01mpreprocessing\u001b[39;00m\u001b[38;5;21;01m.\u001b[39;00m\u001b[38;5;21;01mtext\u001b[39;00m \u001b[38;5;28;01mimport\u001b[39;00m Tokenizer\n\u001b[0;32m      3\u001b[0m \u001b[38;5;28;01mfrom\u001b[39;00m \u001b[38;5;21;01mkeras\u001b[39;00m\u001b[38;5;21;01m.\u001b[39;00m\u001b[38;5;21;01mpreprocessing\u001b[39;00m\u001b[38;5;21;01m.\u001b[39;00m\u001b[38;5;21;01msequence\u001b[39;00m \u001b[38;5;28;01mimport\u001b[39;00m pad_sequences\n\u001b[0;32m      4\u001b[0m \u001b[38;5;28;01mfrom\u001b[39;00m \u001b[38;5;21;01mkeras\u001b[39;00m\u001b[38;5;21;01m.\u001b[39;00m\u001b[38;5;21;01mmodels\u001b[39;00m \u001b[38;5;28;01mimport\u001b[39;00m Sequential\n",
      "\u001b[1;31mModuleNotFoundError\u001b[0m: No module named 'keras.preprocessing.text'"
     ]
    }
   ],
   "source": [
    "from sklearn.feature_extraction.text import CountVectorizer\n",
    "from keras.preprocessing.text import Tokenizer\n",
    "from keras.preprocessing.sequence import pad_sequences\n",
    "from keras.models import Sequential\n",
    "from keras.layers import Dense, Embedding, LSTM, SpatialDropout1D\n",
    "from sklearn.model_selection import train_test_split\n",
    "from keras.utils.np_utils import to_categorical\n",
    "import pandas as pd\n",
    "import numpy as np\n",
    "import matplotlib.pyplot as plt\n",
    "from tensorflow.keras.preprocessing.text import Tokenizer\n",
    "from tensorflow.keras.preprocessing.sequence import pad_sequences\n",
    "from tensorflow.keras.models import Sequential"
   ]
  },
  {
   "cell_type": "code",
   "execution_count": 39,
   "id": "ef320b42-4844-49a6-a600-702d14a164ac",
   "metadata": {},
   "outputs": [
    {
     "name": "stdout",
     "output_type": "stream",
     "text": [
      "Requirement already satisfied: tensorflow in c:\\anaconda\\lib\\site-packages (2.18.0)\n",
      "Requirement already satisfied: tensorflow-intel==2.18.0 in c:\\anaconda\\lib\\site-packages (from tensorflow) (2.18.0)\n",
      "Requirement already satisfied: absl-py>=1.0.0 in c:\\anaconda\\lib\\site-packages (from tensorflow-intel==2.18.0->tensorflow) (2.1.0)\n",
      "Requirement already satisfied: astunparse>=1.6.0 in c:\\anaconda\\lib\\site-packages (from tensorflow-intel==2.18.0->tensorflow) (1.6.3)\n",
      "Requirement already satisfied: flatbuffers>=24.3.25 in c:\\anaconda\\lib\\site-packages (from tensorflow-intel==2.18.0->tensorflow) (24.3.25)\n",
      "Requirement already satisfied: gast!=0.5.0,!=0.5.1,!=0.5.2,>=0.2.1 in c:\\anaconda\\lib\\site-packages (from tensorflow-intel==2.18.0->tensorflow) (0.6.0)\n",
      "Requirement already satisfied: google-pasta>=0.1.1 in c:\\anaconda\\lib\\site-packages (from tensorflow-intel==2.18.0->tensorflow) (0.2.0)\n",
      "Requirement already satisfied: libclang>=13.0.0 in c:\\anaconda\\lib\\site-packages (from tensorflow-intel==2.18.0->tensorflow) (18.1.1)\n",
      "Requirement already satisfied: opt-einsum>=2.3.2 in c:\\anaconda\\lib\\site-packages (from tensorflow-intel==2.18.0->tensorflow) (3.4.0)\n",
      "Requirement already satisfied: packaging in c:\\anaconda\\lib\\site-packages (from tensorflow-intel==2.18.0->tensorflow) (23.2)\n",
      "Requirement already satisfied: protobuf!=4.21.0,!=4.21.1,!=4.21.2,!=4.21.3,!=4.21.4,!=4.21.5,<6.0.0dev,>=3.20.3 in c:\\anaconda\\lib\\site-packages (from tensorflow-intel==2.18.0->tensorflow) (3.20.3)\n",
      "Requirement already satisfied: requests<3,>=2.21.0 in c:\\anaconda\\lib\\site-packages (from tensorflow-intel==2.18.0->tensorflow) (2.32.2)\n",
      "Requirement already satisfied: setuptools in c:\\anaconda\\lib\\site-packages (from tensorflow-intel==2.18.0->tensorflow) (69.5.1)\n",
      "Requirement already satisfied: six>=1.12.0 in c:\\anaconda\\lib\\site-packages (from tensorflow-intel==2.18.0->tensorflow) (1.16.0)\n",
      "Requirement already satisfied: termcolor>=1.1.0 in c:\\anaconda\\lib\\site-packages (from tensorflow-intel==2.18.0->tensorflow) (2.5.0)\n",
      "Requirement already satisfied: typing-extensions>=3.6.6 in c:\\anaconda\\lib\\site-packages (from tensorflow-intel==2.18.0->tensorflow) (4.11.0)\n",
      "Requirement already satisfied: wrapt>=1.11.0 in c:\\anaconda\\lib\\site-packages (from tensorflow-intel==2.18.0->tensorflow) (1.14.1)\n",
      "Requirement already satisfied: grpcio<2.0,>=1.24.3 in c:\\anaconda\\lib\\site-packages (from tensorflow-intel==2.18.0->tensorflow) (1.67.1)\n",
      "Requirement already satisfied: tensorboard<2.19,>=2.18 in c:\\anaconda\\lib\\site-packages (from tensorflow-intel==2.18.0->tensorflow) (2.18.0)\n",
      "Requirement already satisfied: keras>=3.5.0 in c:\\anaconda\\lib\\site-packages (from tensorflow-intel==2.18.0->tensorflow) (3.6.0)\n",
      "Requirement already satisfied: numpy<2.1.0,>=1.26.0 in c:\\anaconda\\lib\\site-packages (from tensorflow-intel==2.18.0->tensorflow) (1.26.4)\n",
      "Requirement already satisfied: h5py>=3.11.0 in c:\\anaconda\\lib\\site-packages (from tensorflow-intel==2.18.0->tensorflow) (3.11.0)\n",
      "Requirement already satisfied: ml-dtypes<0.5.0,>=0.4.0 in c:\\anaconda\\lib\\site-packages (from tensorflow-intel==2.18.0->tensorflow) (0.4.1)\n",
      "Requirement already satisfied: wheel<1.0,>=0.23.0 in c:\\anaconda\\lib\\site-packages (from astunparse>=1.6.0->tensorflow-intel==2.18.0->tensorflow) (0.43.0)\n",
      "Requirement already satisfied: rich in c:\\anaconda\\lib\\site-packages (from keras>=3.5.0->tensorflow-intel==2.18.0->tensorflow) (13.3.5)\n",
      "Requirement already satisfied: namex in c:\\anaconda\\lib\\site-packages (from keras>=3.5.0->tensorflow-intel==2.18.0->tensorflow) (0.0.8)\n",
      "Requirement already satisfied: optree in c:\\anaconda\\lib\\site-packages (from keras>=3.5.0->tensorflow-intel==2.18.0->tensorflow) (0.13.1)\n",
      "Requirement already satisfied: charset-normalizer<4,>=2 in c:\\anaconda\\lib\\site-packages (from requests<3,>=2.21.0->tensorflow-intel==2.18.0->tensorflow) (2.0.4)\n",
      "Requirement already satisfied: idna<4,>=2.5 in c:\\anaconda\\lib\\site-packages (from requests<3,>=2.21.0->tensorflow-intel==2.18.0->tensorflow) (3.7)\n",
      "Requirement already satisfied: urllib3<3,>=1.21.1 in c:\\anaconda\\lib\\site-packages (from requests<3,>=2.21.0->tensorflow-intel==2.18.0->tensorflow) (2.2.2)\n",
      "Requirement already satisfied: certifi>=2017.4.17 in c:\\anaconda\\lib\\site-packages (from requests<3,>=2.21.0->tensorflow-intel==2.18.0->tensorflow) (2024.6.2)\n",
      "Requirement already satisfied: markdown>=2.6.8 in c:\\anaconda\\lib\\site-packages (from tensorboard<2.19,>=2.18->tensorflow-intel==2.18.0->tensorflow) (3.4.1)\n",
      "Requirement already satisfied: tensorboard-data-server<0.8.0,>=0.7.0 in c:\\anaconda\\lib\\site-packages (from tensorboard<2.19,>=2.18->tensorflow-intel==2.18.0->tensorflow) (0.7.2)\n",
      "Requirement already satisfied: werkzeug>=1.0.1 in c:\\anaconda\\lib\\site-packages (from tensorboard<2.19,>=2.18->tensorflow-intel==2.18.0->tensorflow) (3.0.3)\n",
      "Requirement already satisfied: MarkupSafe>=2.1.1 in c:\\anaconda\\lib\\site-packages (from werkzeug>=1.0.1->tensorboard<2.19,>=2.18->tensorflow-intel==2.18.0->tensorflow) (2.1.3)\n",
      "Requirement already satisfied: markdown-it-py<3.0.0,>=2.2.0 in c:\\anaconda\\lib\\site-packages (from rich->keras>=3.5.0->tensorflow-intel==2.18.0->tensorflow) (2.2.0)\n",
      "Requirement already satisfied: pygments<3.0.0,>=2.13.0 in c:\\anaconda\\lib\\site-packages (from rich->keras>=3.5.0->tensorflow-intel==2.18.0->tensorflow) (2.15.1)\n",
      "Requirement already satisfied: mdurl~=0.1 in c:\\anaconda\\lib\\site-packages (from markdown-it-py<3.0.0,>=2.2.0->rich->keras>=3.5.0->tensorflow-intel==2.18.0->tensorflow) (0.1.0)\n",
      "Note: you may need to restart the kernel to use updated packages.\n"
     ]
    }
   ],
   "source": [
    "\n",
    "pip install tensorflow\n"
   ]
  },
  {
   "cell_type": "code",
   "execution_count": 41,
   "id": "afe5857e-d711-4be0-a582-07014e764fe1",
   "metadata": {},
   "outputs": [
    {
     "name": "stdout",
     "output_type": "stream",
     "text": [
      "Requirement already satisfied: keras in c:\\anaconda\\lib\\site-packages (3.6.0)\n",
      "Requirement already satisfied: absl-py in c:\\anaconda\\lib\\site-packages (from keras) (2.1.0)\n",
      "Requirement already satisfied: numpy in c:\\anaconda\\lib\\site-packages (from keras) (1.26.4)\n",
      "Requirement already satisfied: rich in c:\\anaconda\\lib\\site-packages (from keras) (13.3.5)\n",
      "Requirement already satisfied: namex in c:\\anaconda\\lib\\site-packages (from keras) (0.0.8)\n",
      "Requirement already satisfied: h5py in c:\\anaconda\\lib\\site-packages (from keras) (3.11.0)\n",
      "Requirement already satisfied: optree in c:\\anaconda\\lib\\site-packages (from keras) (0.13.1)\n",
      "Requirement already satisfied: ml-dtypes in c:\\anaconda\\lib\\site-packages (from keras) (0.4.1)\n",
      "Requirement already satisfied: packaging in c:\\anaconda\\lib\\site-packages (from keras) (23.2)\n",
      "Requirement already satisfied: typing-extensions>=4.5.0 in c:\\anaconda\\lib\\site-packages (from optree->keras) (4.11.0)\n",
      "Requirement already satisfied: markdown-it-py<3.0.0,>=2.2.0 in c:\\anaconda\\lib\\site-packages (from rich->keras) (2.2.0)\n",
      "Requirement already satisfied: pygments<3.0.0,>=2.13.0 in c:\\anaconda\\lib\\site-packages (from rich->keras) (2.15.1)\n",
      "Requirement already satisfied: mdurl~=0.1 in c:\\anaconda\\lib\\site-packages (from markdown-it-py<3.0.0,>=2.2.0->rich->keras) (0.1.0)\n",
      "Note: you may need to restart the kernel to use updated packages.\n"
     ]
    }
   ],
   "source": [
    "pip install keras\n"
   ]
  },
  {
   "cell_type": "code",
   "execution_count": 43,
   "id": "37431f42-de4f-4651-b7e5-ffec44378cce",
   "metadata": {},
   "outputs": [
    {
     "name": "stdout",
     "output_type": "stream",
     "text": [
      "2.18.0\n"
     ]
    }
   ],
   "source": [
    "import tensorflow as tf\n",
    "print(tf.__version__)\n"
   ]
  },
  {
   "cell_type": "code",
   "execution_count": 45,
   "id": "a36515e1-54d7-4cc9-a898-197a32073d8a",
   "metadata": {},
   "outputs": [],
   "source": [
    "from tensorflow.keras.preprocessing.text import Tokenizer\n",
    "from tensorflow.keras.preprocessing.sequence import pad_sequences\n",
    "from tensorflow.keras.models import Sequential\n"
   ]
  },
  {
   "cell_type": "code",
   "execution_count": 56,
   "id": "488b4e26-5762-43b2-992c-c64efa06622d",
   "metadata": {},
   "outputs": [],
   "source": [
    "from sklearn.feature_extraction.text import CountVectorizer\n",
    "from keras.layers import Dense, Embedding, LSTM, SpatialDropout1D\n",
    "from sklearn.model_selection import train_test_split\n",
    "from tensorflow.keras.utils import to_categorical\n",
    "import pandas as pd\n",
    "import numpy as np\n",
    "import matplotlib.pyplot as plt"
   ]
  },
  {
   "cell_type": "code",
   "execution_count": 58,
   "id": "7d2845f3-38d0-4488-bd6b-1a6a4535294d",
   "metadata": {},
   "outputs": [],
   "source": [
    "fb = pd.read_csv(r\"C:\\Users\\ratna\\Downloads\\fb_sentiment.csv\")"
   ]
  },
  {
   "cell_type": "markdown",
   "id": "61a95653-6c7e-4858-85ba-9058d5990621",
   "metadata": {},
   "source": [
    "Exploring Data"
   ]
  },
  {
   "cell_type": "code",
   "execution_count": 60,
   "id": "270a04d6-60bc-49e4-9a1c-e8876818c1ee",
   "metadata": {},
   "outputs": [
    {
     "data": {
      "text/html": [
       "<div>\n",
       "<style scoped>\n",
       "    .dataframe tbody tr th:only-of-type {\n",
       "        vertical-align: middle;\n",
       "    }\n",
       "\n",
       "    .dataframe tbody tr th {\n",
       "        vertical-align: top;\n",
       "    }\n",
       "\n",
       "    .dataframe thead th {\n",
       "        text-align: right;\n",
       "    }\n",
       "</style>\n",
       "<table border=\"1\" class=\"dataframe\">\n",
       "  <thead>\n",
       "    <tr style=\"text-align: right;\">\n",
       "      <th></th>\n",
       "      <th>Unnamed: 0</th>\n",
       "      <th>FBPost</th>\n",
       "      <th>Label</th>\n",
       "    </tr>\n",
       "  </thead>\n",
       "  <tbody>\n",
       "    <tr>\n",
       "      <th>0</th>\n",
       "      <td>0</td>\n",
       "      <td>Drug Runners and  a U.S. Senator have somethin...</td>\n",
       "      <td>O</td>\n",
       "    </tr>\n",
       "    <tr>\n",
       "      <th>1</th>\n",
       "      <td>1</td>\n",
       "      <td>Heres a single, to add, to Kindle. Just read t...</td>\n",
       "      <td>O</td>\n",
       "    </tr>\n",
       "    <tr>\n",
       "      <th>2</th>\n",
       "      <td>2</td>\n",
       "      <td>If you tire of Non-Fiction.. Check out http://...</td>\n",
       "      <td>O</td>\n",
       "    </tr>\n",
       "    <tr>\n",
       "      <th>3</th>\n",
       "      <td>3</td>\n",
       "      <td>Ghost of Round Island is supposedly nonfiction.</td>\n",
       "      <td>O</td>\n",
       "    </tr>\n",
       "    <tr>\n",
       "      <th>4</th>\n",
       "      <td>4</td>\n",
       "      <td>Why is Barnes and Nobles version of the Kindle...</td>\n",
       "      <td>N</td>\n",
       "    </tr>\n",
       "  </tbody>\n",
       "</table>\n",
       "</div>"
      ],
      "text/plain": [
       "   Unnamed: 0                                             FBPost Label\n",
       "0           0  Drug Runners and  a U.S. Senator have somethin...     O\n",
       "1           1  Heres a single, to add, to Kindle. Just read t...     O\n",
       "2           2  If you tire of Non-Fiction.. Check out http://...     O\n",
       "3           3    Ghost of Round Island is supposedly nonfiction.     O\n",
       "4           4  Why is Barnes and Nobles version of the Kindle...     N"
      ]
     },
     "execution_count": 60,
     "metadata": {},
     "output_type": "execute_result"
    }
   ],
   "source": [
    "fb.head()"
   ]
  },
  {
   "cell_type": "code",
   "execution_count": 62,
   "id": "61154383-6bfe-4bd4-9837-20419b01a2c2",
   "metadata": {},
   "outputs": [],
   "source": [
    "# lower-casing the coloumn names\n",
    "fb.columns = map(str.lower, fb.columns)"
   ]
  },
  {
   "cell_type": "code",
   "execution_count": 64,
   "id": "29a03cdf-fd2f-438e-abc7-b71b7d298ca8",
   "metadata": {},
   "outputs": [
    {
     "data": {
      "text/plain": [
       "(1000, 3)"
      ]
     },
     "execution_count": 64,
     "metadata": {},
     "output_type": "execute_result"
    }
   ],
   "source": [
    "# checkin the shape of the DF\n",
    "fb.shape"
   ]
  },
  {
   "cell_type": "markdown",
   "id": "00e12a34-23d4-4f5d-abb1-067ce0c12093",
   "metadata": {},
   "source": [
    "Data preperation"
   ]
  },
  {
   "cell_type": "code",
   "execution_count": 72,
   "id": "fc1b20cc-6f9c-4645-b1e3-235b385fda70",
   "metadata": {},
   "outputs": [],
   "source": [
    "import re\n",
    "\n",
    "# Lowercasing the text\n",
    "fb['fbpost'] = fb['fbpost'].apply(lambda x: x.lower())\n",
    "\n",
    "# Removing symbols using RegEx\n",
    "fb['fbpost'] = fb['fbpost'].apply(lambda x: re.sub(r'[^a-zA-Z0-9\\s]', '', x))\n"
   ]
  },
  {
   "cell_type": "code",
   "execution_count": null,
   "id": "e1852ae7-bdfb-44fc-9e1e-a2010ff8de6a",
   "metadata": {},
   "outputs": [],
   "source": [
    "With this Neural network, we want to predict, whether a comment is Positive (P) or Negative (N), so the comments with the sentiment labeled Other (O) \n",
    "is of no use to us, so it's removed from the dataset."
   ]
  },
  {
   "cell_type": "code",
   "execution_count": 74,
   "id": "2288d5a2-2800-49bc-80ef-10a185f7178e",
   "metadata": {},
   "outputs": [],
   "source": [
    "fb = fb[fb.label != \"O\"]"
   ]
  },
  {
   "cell_type": "code",
   "execution_count": null,
   "id": "40360c6c-a893-4ba4-a5c4-5aed872c7211",
   "metadata": {},
   "outputs": [],
   "source": [
    "Now to tokenize the actual Facebook comments:"
   ]
  },
  {
   "cell_type": "code",
   "execution_count": 76,
   "id": "41f75570-7848-4063-9e7c-d55da5761e85",
   "metadata": {},
   "outputs": [],
   "source": [
    "max_fatures = 2000\n",
    "tokenizer = Tokenizer(num_words=max_fatures, split=' ')\n",
    "tokenizer.fit_on_texts(fb['fbpost'].values)\n",
    "X = tokenizer.texts_to_sequences(fb['fbpost'].values)\n",
    "X = pad_sequences(X)"
   ]
  },
  {
   "cell_type": "code",
   "execution_count": null,
   "id": "e3210907-e86f-4ef6-aaf7-bbc3b515b6da",
   "metadata": {},
   "outputs": [],
   "source": [
    "Preparing the labels\n",
    "\n",
    "Here the lables are checked after the removel of the \"other\" sentimented comments. Also some preperation to the algorithm, as preparing the test-, \n",
    "and training sets are done."
   ]
  },
  {
   "cell_type": "code",
   "execution_count": 78,
   "id": "6d9bc23b-b648-4f04-9859-e84b5f077e8e",
   "metadata": {},
   "outputs": [
    {
     "data": {
      "text/plain": [
       "label\n",
       "P    641\n",
       "N     79\n",
       "Name: count, dtype: int64"
      ]
     },
     "execution_count": 78,
     "metadata": {},
     "output_type": "execute_result"
    }
   ],
   "source": [
    "fb.label.value_counts()"
   ]
  },
  {
   "cell_type": "code",
   "execution_count": 80,
   "id": "2ffaa76d-8c64-4dad-bed3-eb8eba523815",
   "metadata": {},
   "outputs": [
    {
     "name": "stdout",
     "output_type": "stream",
     "text": [
      "(482, 203) (482, 2)\n",
      "(238, 203) (238, 2)\n"
     ]
    }
   ],
   "source": [
    "Y = pd.get_dummies(fb['label']).values\n",
    "X_train, X_test, Y_train, Y_test = train_test_split(X,Y, test_size = 0.33, random_state = 42)\n",
    "print(X_train.shape,Y_train.shape)\n",
    "print(X_test.shape,Y_test.shape)"
   ]
  },
  {
   "cell_type": "code",
   "execution_count": null,
   "id": "90c5d248-ea9c-422d-b138-3f54444bce60",
   "metadata": {},
   "outputs": [],
   "source": [
    "The Neural Network\n",
    "In this section, the algorithm is prepared with following features:\n",
    "\n",
    "The model is Sequential\n",
    "The model type is an LSTM model"
   ]
  },
  {
   "cell_type": "code",
   "execution_count": 110,
   "id": "091b9537-71bf-4b03-bf0b-f866f6defe4a",
   "metadata": {},
   "outputs": [
    {
     "name": "stderr",
     "output_type": "stream",
     "text": [
      "C:\\anaconda\\Lib\\site-packages\\keras\\src\\layers\\core\\embedding.py:90: UserWarning: Argument `input_length` is deprecated. Just remove it.\n",
      "  warnings.warn(\n"
     ]
    },
    {
     "data": {
      "text/html": [
       "<pre style=\"white-space:pre;overflow-x:auto;line-height:normal;font-family:Menlo,'DejaVu Sans Mono',consolas,'Courier New',monospace\"><span style=\"font-weight: bold\">Model: \"sequential_10\"</span>\n",
       "</pre>\n"
      ],
      "text/plain": [
       "\u001b[1mModel: \"sequential_10\"\u001b[0m\n"
      ]
     },
     "metadata": {},
     "output_type": "display_data"
    },
    {
     "data": {
      "text/html": [
       "<pre style=\"white-space:pre;overflow-x:auto;line-height:normal;font-family:Menlo,'DejaVu Sans Mono',consolas,'Courier New',monospace\">┏━━━━━━━━━━━━━━━━━━━━━━━━━━━━━━━━━┳━━━━━━━━━━━━━━━━━━━━━━━━┳━━━━━━━━━━━━━━━┓\n",
       "┃<span style=\"font-weight: bold\"> Layer (type)                    </span>┃<span style=\"font-weight: bold\"> Output Shape           </span>┃<span style=\"font-weight: bold\">       Param # </span>┃\n",
       "┡━━━━━━━━━━━━━━━━━━━━━━━━━━━━━━━━━╇━━━━━━━━━━━━━━━━━━━━━━━━╇━━━━━━━━━━━━━━━┩\n",
       "│ embedding_10 (<span style=\"color: #0087ff; text-decoration-color: #0087ff\">Embedding</span>)        │ ?                      │   <span style=\"color: #00af00; text-decoration-color: #00af00\">0</span> (unbuilt) │\n",
       "├─────────────────────────────────┼────────────────────────┼───────────────┤\n",
       "│ spatial_dropout1d_10            │ ?                      │             <span style=\"color: #00af00; text-decoration-color: #00af00\">0</span> │\n",
       "│ (<span style=\"color: #0087ff; text-decoration-color: #0087ff\">SpatialDropout1D</span>)              │                        │               │\n",
       "├─────────────────────────────────┼────────────────────────┼───────────────┤\n",
       "│ lstm_10 (<span style=\"color: #0087ff; text-decoration-color: #0087ff\">LSTM</span>)                  │ ?                      │   <span style=\"color: #00af00; text-decoration-color: #00af00\">0</span> (unbuilt) │\n",
       "├─────────────────────────────────┼────────────────────────┼───────────────┤\n",
       "│ dense_10 (<span style=\"color: #0087ff; text-decoration-color: #0087ff\">Dense</span>)                │ ?                      │   <span style=\"color: #00af00; text-decoration-color: #00af00\">0</span> (unbuilt) │\n",
       "└─────────────────────────────────┴────────────────────────┴───────────────┘\n",
       "</pre>\n"
      ],
      "text/plain": [
       "┏━━━━━━━━━━━━━━━━━━━━━━━━━━━━━━━━━┳━━━━━━━━━━━━━━━━━━━━━━━━┳━━━━━━━━━━━━━━━┓\n",
       "┃\u001b[1m \u001b[0m\u001b[1mLayer (type)                   \u001b[0m\u001b[1m \u001b[0m┃\u001b[1m \u001b[0m\u001b[1mOutput Shape          \u001b[0m\u001b[1m \u001b[0m┃\u001b[1m \u001b[0m\u001b[1m      Param #\u001b[0m\u001b[1m \u001b[0m┃\n",
       "┡━━━━━━━━━━━━━━━━━━━━━━━━━━━━━━━━━╇━━━━━━━━━━━━━━━━━━━━━━━━╇━━━━━━━━━━━━━━━┩\n",
       "│ embedding_10 (\u001b[38;5;33mEmbedding\u001b[0m)        │ ?                      │   \u001b[38;5;34m0\u001b[0m (unbuilt) │\n",
       "├─────────────────────────────────┼────────────────────────┼───────────────┤\n",
       "│ spatial_dropout1d_10            │ ?                      │             \u001b[38;5;34m0\u001b[0m │\n",
       "│ (\u001b[38;5;33mSpatialDropout1D\u001b[0m)              │                        │               │\n",
       "├─────────────────────────────────┼────────────────────────┼───────────────┤\n",
       "│ lstm_10 (\u001b[38;5;33mLSTM\u001b[0m)                  │ ?                      │   \u001b[38;5;34m0\u001b[0m (unbuilt) │\n",
       "├─────────────────────────────────┼────────────────────────┼───────────────┤\n",
       "│ dense_10 (\u001b[38;5;33mDense\u001b[0m)                │ ?                      │   \u001b[38;5;34m0\u001b[0m (unbuilt) │\n",
       "└─────────────────────────────────┴────────────────────────┴───────────────┘\n"
      ]
     },
     "metadata": {},
     "output_type": "display_data"
    },
    {
     "data": {
      "text/html": [
       "<pre style=\"white-space:pre;overflow-x:auto;line-height:normal;font-family:Menlo,'DejaVu Sans Mono',consolas,'Courier New',monospace\"><span style=\"font-weight: bold\"> Total params: </span><span style=\"color: #00af00; text-decoration-color: #00af00\">0</span> (0.00 B)\n",
       "</pre>\n"
      ],
      "text/plain": [
       "\u001b[1m Total params: \u001b[0m\u001b[38;5;34m0\u001b[0m (0.00 B)\n"
      ]
     },
     "metadata": {},
     "output_type": "display_data"
    },
    {
     "data": {
      "text/html": [
       "<pre style=\"white-space:pre;overflow-x:auto;line-height:normal;font-family:Menlo,'DejaVu Sans Mono',consolas,'Courier New',monospace\"><span style=\"font-weight: bold\"> Trainable params: </span><span style=\"color: #00af00; text-decoration-color: #00af00\">0</span> (0.00 B)\n",
       "</pre>\n"
      ],
      "text/plain": [
       "\u001b[1m Trainable params: \u001b[0m\u001b[38;5;34m0\u001b[0m (0.00 B)\n"
      ]
     },
     "metadata": {},
     "output_type": "display_data"
    },
    {
     "data": {
      "text/html": [
       "<pre style=\"white-space:pre;overflow-x:auto;line-height:normal;font-family:Menlo,'DejaVu Sans Mono',consolas,'Courier New',monospace\"><span style=\"font-weight: bold\"> Non-trainable params: </span><span style=\"color: #00af00; text-decoration-color: #00af00\">0</span> (0.00 B)\n",
       "</pre>\n"
      ],
      "text/plain": [
       "\u001b[1m Non-trainable params: \u001b[0m\u001b[38;5;34m0\u001b[0m (0.00 B)\n"
      ]
     },
     "metadata": {},
     "output_type": "display_data"
    },
    {
     "name": "stdout",
     "output_type": "stream",
     "text": [
      "None\n",
      "Epoch 1/5\n",
      "\u001b[1m13/13\u001b[0m \u001b[32m━━━━━━━━━━━━━━━━━━━━\u001b[0m\u001b[37m\u001b[0m \u001b[1m9s\u001b[0m 367ms/step - accuracy: 0.4821 - loss: 0.6938 - val_accuracy: 0.5300 - val_loss: 0.6928\n",
      "Epoch 2/5\n",
      "\u001b[1m13/13\u001b[0m \u001b[32m━━━━━━━━━━━━━━━━━━━━\u001b[0m\u001b[37m\u001b[0m \u001b[1m4s\u001b[0m 336ms/step - accuracy: 0.7661 - loss: 0.6671 - val_accuracy: 0.5100 - val_loss: 0.6992\n",
      "Epoch 3/5\n",
      "\u001b[1m13/13\u001b[0m \u001b[32m━━━━━━━━━━━━━━━━━━━━\u001b[0m\u001b[37m\u001b[0m \u001b[1m4s\u001b[0m 349ms/step - accuracy: 0.8921 - loss: 0.4624 - val_accuracy: 0.5000 - val_loss: 0.7239\n",
      "Epoch 4/5\n",
      "\u001b[1m13/13\u001b[0m \u001b[32m━━━━━━━━━━━━━━━━━━━━\u001b[0m\u001b[37m\u001b[0m \u001b[1m4s\u001b[0m 338ms/step - accuracy: 0.9834 - loss: 0.1912 - val_accuracy: 0.4750 - val_loss: 0.9105\n",
      "Epoch 5/5\n",
      "\u001b[1m13/13\u001b[0m \u001b[32m━━━━━━━━━━━━━━━━━━━━\u001b[0m\u001b[37m\u001b[0m \u001b[1m4s\u001b[0m 338ms/step - accuracy: 0.9821 - loss: 0.1058 - val_accuracy: 0.5100 - val_loss: 0.8689\n",
      "\u001b[1m7/7\u001b[0m \u001b[32m━━━━━━━━━━━━━━━━━━━━\u001b[0m\u001b[37m\u001b[0m \u001b[1m0s\u001b[0m 45ms/step - accuracy: 0.4962 - loss: 0.9088\n",
      "Validation Loss: 0.8688697814941406\n",
      "Validation Accuracy: 0.5099999904632568\n"
     ]
    }
   ],
   "source": [
    "import numpy as np\n",
    "from tensorflow.keras.models import Sequential\n",
    "from tensorflow.keras.layers import Embedding, SpatialDropout1D, LSTM, Dense\n",
    "from tensorflow.keras.utils import to_categorical\n",
    "from sklearn.model_selection import train_test_split\n",
    "\n",
    "# Hyperparameters\n",
    "max_features = 10000  # Vocabulary size (e.g., 10,000 unique tokens)\n",
    "embed_dim = 200       # Embedding dimensions\n",
    "lstm_out = 200        # Number of LSTM units\n",
    "sequence_length = 203  # Length of input sequences (number of tokens)\n",
    "\n",
    "# Example Data (for illustration purposes)\n",
    "X = np.random.randint(1, max_features, (1000, sequence_length))  # Random example data\n",
    "y = np.random.randint(2, size=(1000, 1))  # Random binary classification labels\n",
    "\n",
    "# Convert labels to categorical (for categorical crossentropy loss)\n",
    "y = to_categorical(y, num_classes=2)\n",
    "\n",
    "# Split the data into training and validation sets\n",
    "X_train, X_val, y_train, y_val = train_test_split(X, y, test_size=0.2, random_state=42)\n",
    "\n",
    "# Build the model\n",
    "model = Sequential()\n",
    "\n",
    "# Add embedding layer: input_dim=max_features (vocabulary size), output_dim=embed_dim\n",
    "model.add(Embedding(input_dim=max_features, output_dim=embed_dim, input_length=sequence_length))\n",
    "\n",
    "# Add dropout to avoid overfitting\n",
    "model.add(SpatialDropout1D(0.4))\n",
    "\n",
    "# Add LSTM layer: lstm_out is the number of units in the LSTM\n",
    "model.add(LSTM(lstm_out, dropout=0.2, recurrent_dropout=0.2))\n",
    "\n",
    "# Output layer for binary classification\n",
    "model.add(Dense(2, activation='softmax'))\n",
    "\n",
    "# Compile the model\n",
    "model.compile(loss='categorical_crossentropy', optimizer='adam', metrics=['accuracy'])\n",
    "\n",
    "# Print model summary\n",
    "print(model.summary())\n",
    "\n",
    "# Train the model (example training)\n",
    "history = model.fit(X_train, y_train, epochs=5, batch_size=64, validation_data=(X_val, y_val))\n",
    "\n",
    "# Evaluate the model\n",
    "loss, accuracy = model.evaluate(X_val, y_val)\n",
    "print(f\"Validation Loss: {loss}\")\n",
    "print(f\"Validation Accuracy: {accuracy}\")\n"
   ]
  },
  {
   "cell_type": "code",
   "execution_count": 114,
   "id": "e79280cf-9955-44e8-9473-798e6d2c500b",
   "metadata": {},
   "outputs": [
    {
     "name": "stdout",
     "output_type": "stream",
     "text": [
      "(800, 203)\n",
      "(482, 2)\n"
     ]
    }
   ],
   "source": [
    "print(X_train.shape)\n",
    "print(Y_train.shape)\n"
   ]
  },
  {
   "cell_type": "code",
   "execution_count": 120,
   "id": "a813fcf7-61fa-4628-ad94-9bc94ad113c7",
   "metadata": {},
   "outputs": [
    {
     "name": "stdout",
     "output_type": "stream",
     "text": [
      "Epoch 1/7\n",
      "\u001b[1m25/25\u001b[0m \u001b[32m━━━━━━━━━━━━━━━━━━━━\u001b[0m\u001b[37m\u001b[0m \u001b[1m6s\u001b[0m 225ms/step - accuracy: 1.0000 - loss: 0.0251 - val_accuracy: 0.5250 - val_loss: 1.0527\n",
      "Epoch 2/7\n",
      "\u001b[1m25/25\u001b[0m \u001b[32m━━━━━━━━━━━━━━━━━━━━\u001b[0m\u001b[37m\u001b[0m \u001b[1m5s\u001b[0m 219ms/step - accuracy: 0.9999 - loss: 0.0041 - val_accuracy: 0.5000 - val_loss: 1.2883\n",
      "Epoch 3/7\n",
      "\u001b[1m25/25\u001b[0m \u001b[32m━━━━━━━━━━━━━━━━━━━━\u001b[0m\u001b[37m\u001b[0m \u001b[1m6s\u001b[0m 224ms/step - accuracy: 1.0000 - loss: 0.0018 - val_accuracy: 0.4900 - val_loss: 1.3005\n",
      "Epoch 4/7\n",
      "\u001b[1m25/25\u001b[0m \u001b[32m━━━━━━━━━━━━━━━━━━━━\u001b[0m\u001b[37m\u001b[0m \u001b[1m6s\u001b[0m 229ms/step - accuracy: 1.0000 - loss: 0.0011 - val_accuracy: 0.4850 - val_loss: 1.3785\n",
      "Epoch 5/7\n",
      "\u001b[1m25/25\u001b[0m \u001b[32m━━━━━━━━━━━━━━━━━━━━\u001b[0m\u001b[37m\u001b[0m \u001b[1m5s\u001b[0m 217ms/step - accuracy: 1.0000 - loss: 7.0813e-04 - val_accuracy: 0.4800 - val_loss: 1.4580\n",
      "Epoch 6/7\n",
      "\u001b[1m25/25\u001b[0m \u001b[32m━━━━━━━━━━━━━━━━━━━━\u001b[0m\u001b[37m\u001b[0m \u001b[1m6s\u001b[0m 229ms/step - accuracy: 1.0000 - loss: 5.6789e-04 - val_accuracy: 0.4800 - val_loss: 1.5318\n",
      "Epoch 7/7\n",
      "\u001b[1m25/25\u001b[0m \u001b[32m━━━━━━━━━━━━━━━━━━━━\u001b[0m\u001b[37m\u001b[0m \u001b[1m5s\u001b[0m 209ms/step - accuracy: 1.0000 - loss: 5.0800e-04 - val_accuracy: 0.4850 - val_loss: 1.6085\n"
     ]
    },
    {
     "data": {
      "image/png": "[encoded data removed]",
      "text/plain": [
       "<Figure size 700x700 with 1 Axes>"
      ]
     },
     "metadata": {},
     "output_type": "display_data"
    }
   ],
   "source": [
    "# Assuming you have a model `model` and training data `X_train`, `y_train`\n",
    "hist = model.fit(X_train, y_train, epochs=7, validation_data=(X_val, y_val))\n",
    "\n",
    "# Now you can use hist.history\n",
    "history = pd.DataFrame(hist.history)\n",
    "\n",
    "# Plotting accuracy and loss\n",
    "plt.figure(figsize=(7,7))\n",
    "plt.plot(history[\"loss\"], label=\"Loss\")\n",
    "plt.plot(history[\"accuracy\"], label=\"Accuracy\")\n",
    "plt.xlabel(\"Epochs\")\n",
    "plt.ylabel(\"Value\")\n",
    "plt.legend()\n",
    "plt.show()\n"
   ]
  },
  {
   "cell_type": "code",
   "execution_count": 122,
   "id": "06ae5683-da36-41fc-aba5-34a5f0936f0b",
   "metadata": {},
   "outputs": [
    {
     "name": "stdout",
     "output_type": "stream",
     "text": [
      "\u001b[1m8/8\u001b[0m \u001b[32m━━━━━━━━━━━━━━━━━━━━\u001b[0m\u001b[37m\u001b[0m \u001b[1m1s\u001b[0m 47ms/step - accuracy: 0.6149 - loss: 1.4051\n",
      "score: 1.33\n",
      "accuracy: 0.61\n"
     ]
    }
   ],
   "source": [
    "#Testing the model, and retrieveing score and accuracy:\n",
    "score,acc = model.evaluate(X_test,Y_test)\n",
    "print(\"score: %.2f\" % (score))\n",
    "print(\"accuracy: %.2f\" % (acc))"
   ]
  },
  {
   "cell_type": "code",
   "execution_count": 126,
   "id": "8bcf53d1-2e27-424a-9b51-af8bb17c03d7",
   "metadata": {},
   "outputs": [],
   "source": [
    "#now we validate for the models accuracy in predicting either a positive, or a negative score:\n",
    "validation_size = 1500\n",
    "\n",
    "X_validate = X_test[-validation_size:]\n",
    "Y_validate = Y_test[-validation_size:]\n",
    "x_test = X_test[:-validation_size]\n",
    "y_test = Y_test[:-validation_size]"
   ]
  },
  {
   "cell_type": "code",
   "execution_count": 128,
   "id": "94e63af1-774b-418b-a680-45d69cb95978",
   "metadata": {},
   "outputs": [
    {
     "name": "stdout",
     "output_type": "stream",
     "text": [
      "1/1 - 0s - 374ms/step\n",
      "1/1 - 0s - 50ms/step\n",
      "1/1 - 0s - 40ms/step\n",
      "1/1 - 0s - 34ms/step\n",
      "1/1 - 0s - 41ms/step\n",
      "1/1 - 0s - 35ms/step\n",
      "1/1 - 0s - 41ms/step\n",
      "1/1 - 0s - 49ms/step\n",
      "1/1 - 0s - 42ms/step\n",
      "1/1 - 0s - 49ms/step\n",
      "1/1 - 0s - 36ms/step\n",
      "1/1 - 0s - 50ms/step\n",
      "1/1 - 0s - 48ms/step\n",
      "1/1 - 0s - 40ms/step\n",
      "1/1 - 0s - 44ms/step\n",
      "1/1 - 0s - 42ms/step\n",
      "1/1 - 0s - 35ms/step\n",
      "1/1 - 0s - 45ms/step\n",
      "1/1 - 0s - 38ms/step\n",
      "1/1 - 0s - 39ms/step\n",
      "1/1 - 0s - 48ms/step\n",
      "1/1 - 0s - 37ms/step\n",
      "1/1 - 0s - 33ms/step\n",
      "1/1 - 0s - 42ms/step\n",
      "1/1 - 0s - 32ms/step\n",
      "1/1 - 0s - 46ms/step\n",
      "1/1 - 0s - 36ms/step\n",
      "1/1 - 0s - 33ms/step\n",
      "1/1 - 0s - 34ms/step\n",
      "1/1 - 0s - 45ms/step\n",
      "1/1 - 0s - 36ms/step\n",
      "1/1 - 0s - 51ms/step\n",
      "1/1 - 0s - 49ms/step\n",
      "1/1 - 0s - 32ms/step\n",
      "1/1 - 0s - 31ms/step\n",
      "1/1 - 0s - 47ms/step\n",
      "1/1 - 0s - 44ms/step\n",
      "1/1 - 0s - 49ms/step\n",
      "1/1 - 0s - 39ms/step\n",
      "1/1 - 0s - 26ms/step\n",
      "1/1 - 0s - 53ms/step\n",
      "1/1 - 0s - 40ms/step\n",
      "1/1 - 0s - 24ms/step\n",
      "1/1 - 0s - 32ms/step\n",
      "1/1 - 0s - 31ms/step\n",
      "1/1 - 0s - 50ms/step\n",
      "1/1 - 0s - 41ms/step\n",
      "1/1 - 0s - 34ms/step\n",
      "1/1 - 0s - 46ms/step\n",
      "1/1 - 0s - 38ms/step\n",
      "1/1 - 0s - 34ms/step\n",
      "1/1 - 0s - 50ms/step\n",
      "1/1 - 0s - 53ms/step\n",
      "1/1 - 0s - 41ms/step\n",
      "1/1 - 0s - 48ms/step\n",
      "1/1 - 0s - 36ms/step\n",
      "1/1 - 0s - 27ms/step\n",
      "1/1 - 0s - 49ms/step\n",
      "1/1 - 0s - 34ms/step\n",
      "1/1 - 0s - 33ms/step\n",
      "1/1 - 0s - 35ms/step\n",
      "1/1 - 0s - 34ms/step\n",
      "1/1 - 0s - 37ms/step\n",
      "1/1 - 0s - 32ms/step\n",
      "1/1 - 0s - 39ms/step\n",
      "1/1 - 0s - 26ms/step\n",
      "1/1 - 0s - 33ms/step\n",
      "1/1 - 0s - 33ms/step\n",
      "1/1 - 0s - 29ms/step\n",
      "1/1 - 0s - 33ms/step\n",
      "1/1 - 0s - 36ms/step\n",
      "1/1 - 0s - 34ms/step\n",
      "1/1 - 0s - 30ms/step\n",
      "1/1 - 0s - 36ms/step\n",
      "1/1 - 0s - 39ms/step\n",
      "1/1 - 0s - 31ms/step\n",
      "1/1 - 0s - 43ms/step\n",
      "1/1 - 0s - 40ms/step\n",
      "1/1 - 0s - 39ms/step\n",
      "1/1 - 0s - 39ms/step\n",
      "1/1 - 0s - 43ms/step\n",
      "1/1 - 0s - 37ms/step\n",
      "1/1 - 0s - 37ms/step\n",
      "1/1 - 0s - 31ms/step\n",
      "1/1 - 0s - 36ms/step\n",
      "1/1 - 0s - 38ms/step\n",
      "1/1 - 0s - 30ms/step\n",
      "1/1 - 0s - 47ms/step\n",
      "1/1 - 0s - 26ms/step\n",
      "1/1 - 0s - 47ms/step\n",
      "1/1 - 0s - 40ms/step\n",
      "1/1 - 0s - 32ms/step\n",
      "1/1 - 0s - 47ms/step\n",
      "1/1 - 0s - 43ms/step\n",
      "1/1 - 0s - 38ms/step\n",
      "1/1 - 0s - 31ms/step\n",
      "1/1 - 0s - 50ms/step\n",
      "1/1 - 0s - 47ms/step\n",
      "1/1 - 0s - 52ms/step\n",
      "1/1 - 0s - 37ms/step\n",
      "1/1 - 0s - 51ms/step\n",
      "1/1 - 0s - 39ms/step\n",
      "1/1 - 0s - 49ms/step\n",
      "1/1 - 0s - 46ms/step\n",
      "1/1 - 0s - 47ms/step\n",
      "1/1 - 0s - 45ms/step\n",
      "1/1 - 0s - 47ms/step\n",
      "1/1 - 0s - 47ms/step\n",
      "1/1 - 0s - 33ms/step\n",
      "1/1 - 0s - 45ms/step\n",
      "1/1 - 0s - 41ms/step\n",
      "1/1 - 0s - 40ms/step\n",
      "1/1 - 0s - 44ms/step\n",
      "1/1 - 0s - 34ms/step\n",
      "1/1 - 0s - 45ms/step\n",
      "1/1 - 0s - 53ms/step\n",
      "1/1 - 0s - 40ms/step\n",
      "1/1 - 0s - 43ms/step\n",
      "1/1 - 0s - 37ms/step\n",
      "1/1 - 0s - 35ms/step\n",
      "1/1 - 0s - 50ms/step\n",
      "1/1 - 0s - 37ms/step\n",
      "1/1 - 0s - 35ms/step\n",
      "1/1 - 0s - 45ms/step\n",
      "1/1 - 0s - 48ms/step\n",
      "1/1 - 0s - 47ms/step\n",
      "1/1 - 0s - 50ms/step\n",
      "1/1 - 0s - 35ms/step\n",
      "1/1 - 0s - 48ms/step\n",
      "1/1 - 0s - 43ms/step\n",
      "1/1 - 0s - 28ms/step\n",
      "1/1 - 0s - 29ms/step\n",
      "1/1 - 0s - 40ms/step\n",
      "1/1 - 0s - 57ms/step\n",
      "1/1 - 0s - 50ms/step\n",
      "1/1 - 0s - 33ms/step\n",
      "1/1 - 0s - 36ms/step\n",
      "1/1 - 0s - 33ms/step\n",
      "1/1 - 0s - 45ms/step\n",
      "1/1 - 0s - 45ms/step\n",
      "1/1 - 0s - 42ms/step\n",
      "1/1 - 0s - 46ms/step\n",
      "1/1 - 0s - 49ms/step\n",
      "1/1 - 0s - 40ms/step\n",
      "1/1 - 0s - 40ms/step\n",
      "1/1 - 0s - 42ms/step\n",
      "1/1 - 0s - 41ms/step\n",
      "1/1 - 0s - 35ms/step\n",
      "1/1 - 0s - 46ms/step\n",
      "1/1 - 0s - 38ms/step\n",
      "1/1 - 0s - 46ms/step\n",
      "1/1 - 0s - 33ms/step\n",
      "1/1 - 0s - 33ms/step\n",
      "1/1 - 0s - 51ms/step\n",
      "1/1 - 0s - 49ms/step\n",
      "1/1 - 0s - 38ms/step\n",
      "1/1 - 0s - 46ms/step\n",
      "1/1 - 0s - 40ms/step\n",
      "1/1 - 0s - 35ms/step\n",
      "1/1 - 0s - 48ms/step\n",
      "1/1 - 0s - 53ms/step\n",
      "1/1 - 0s - 46ms/step\n",
      "1/1 - 0s - 49ms/step\n",
      "1/1 - 0s - 63ms/step\n",
      "1/1 - 0s - 40ms/step\n",
      "1/1 - 0s - 52ms/step\n",
      "1/1 - 0s - 47ms/step\n",
      "1/1 - 0s - 48ms/step\n",
      "1/1 - 0s - 46ms/step\n",
      "1/1 - 0s - 50ms/step\n",
      "1/1 - 0s - 51ms/step\n",
      "1/1 - 0s - 48ms/step\n",
      "1/1 - 0s - 37ms/step\n",
      "1/1 - 0s - 34ms/step\n",
      "1/1 - 0s - 34ms/step\n",
      "1/1 - 0s - 32ms/step\n",
      "1/1 - 0s - 34ms/step\n",
      "1/1 - 0s - 43ms/step\n",
      "1/1 - 0s - 43ms/step\n",
      "1/1 - 0s - 41ms/step\n",
      "1/1 - 0s - 33ms/step\n",
      "1/1 - 0s - 31ms/step\n",
      "1/1 - 0s - 35ms/step\n",
      "1/1 - 0s - 38ms/step\n",
      "1/1 - 0s - 47ms/step\n",
      "1/1 - 0s - 45ms/step\n",
      "1/1 - 0s - 51ms/step\n",
      "1/1 - 0s - 50ms/step\n",
      "1/1 - 0s - 45ms/step\n",
      "1/1 - 0s - 44ms/step\n",
      "1/1 - 0s - 36ms/step\n",
      "1/1 - 0s - 38ms/step\n",
      "1/1 - 0s - 40ms/step\n",
      "1/1 - 0s - 48ms/step\n",
      "1/1 - 0s - 50ms/step\n",
      "1/1 - 0s - 55ms/step\n",
      "1/1 - 0s - 47ms/step\n",
      "1/1 - 0s - 31ms/step\n",
      "1/1 - 0s - 31ms/step\n",
      "1/1 - 0s - 46ms/step\n",
      "1/1 - 0s - 57ms/step\n",
      "1/1 - 0s - 43ms/step\n",
      "1/1 - 0s - 31ms/step\n",
      "1/1 - 0s - 31ms/step\n",
      "1/1 - 0s - 47ms/step\n",
      "1/1 - 0s - 47ms/step\n",
      "1/1 - 0s - 47ms/step\n",
      "1/1 - 0s - 40ms/step\n",
      "1/1 - 0s - 47ms/step\n",
      "1/1 - 0s - 49ms/step\n",
      "1/1 - 0s - 39ms/step\n",
      "1/1 - 0s - 31ms/step\n",
      "1/1 - 0s - 39ms/step\n",
      "1/1 - 0s - 35ms/step\n",
      "1/1 - 0s - 34ms/step\n",
      "1/1 - 0s - 32ms/step\n",
      "1/1 - 0s - 36ms/step\n",
      "1/1 - 0s - 38ms/step\n",
      "1/1 - 0s - 33ms/step\n",
      "1/1 - 0s - 33ms/step\n",
      "1/1 - 0s - 38ms/step\n",
      "1/1 - 0s - 36ms/step\n",
      "1/1 - 0s - 36ms/step\n",
      "1/1 - 0s - 36ms/step\n",
      "1/1 - 0s - 65ms/step\n",
      "1/1 - 0s - 40ms/step\n",
      "1/1 - 0s - 33ms/step\n",
      "1/1 - 0s - 24ms/step\n",
      "1/1 - 0s - 41ms/step\n",
      "1/1 - 0s - 36ms/step\n",
      "1/1 - 0s - 33ms/step\n",
      "1/1 - 0s - 35ms/step\n",
      "1/1 - 0s - 47ms/step\n",
      "1/1 - 0s - 31ms/step\n",
      "1/1 - 0s - 37ms/step\n",
      "1/1 - 0s - 36ms/step\n",
      "1/1 - 0s - 35ms/step\n",
      "1/1 - 0s - 32ms/step\n",
      "positive_acc 60.76555023923444 %\n",
      "negative_acc 62.06896551724138 %\n"
     ]
    }
   ],
   "source": [
    "pos_cnt, neg_cnt, pos_correct, neg_correct = 0, 0, 0, 0\n",
    "for x in range(len(X_validate)):\n",
    "    result = model.predict(X_validate[x].reshape(1,x_test.shape[1]),verbose = 2)[0]\n",
    "    if np.argmax(result) == np.argmax(Y_validate[x]):\n",
    "        if np.argmax(Y_validate[x]) == 0:\n",
    "            neg_correct += 1\n",
    "        else:\n",
    "            pos_correct += 1\n",
    "    if np.argmax(Y_validate[x]) == 0:\n",
    "        neg_cnt += 1\n",
    "    else:\n",
    "        pos_cnt += 1\n",
    "print(\"positive_acc\", pos_correct/pos_cnt*100, \"%\")\n",
    "print(\"negative_acc\", neg_correct/neg_cnt*100, \"%\")"
   ]
  },
  {
   "cell_type": "code",
   "execution_count": 130,
   "id": "7a50bd32-60f0-42c5-8819-611d918167e5",
   "metadata": {},
   "outputs": [
    {
     "name": "stdout",
     "output_type": "stream",
     "text": [
      "[[  0   0   0   0   0   0   0   0   0   0   0   0   0   0   0   0   0   0\n",
      "    0   0   0   0   0   0   0   0   0   0   0   0   0   0   0   0   0   0\n",
      "    0   0   0   0   0   0   0   0   0   0   0   0   0   0   0   0   0   0\n",
      "    0   0   0   0   0   0   0   0   0   0   0   0   0   0   0   0   0   0\n",
      "    0   0   0   0   0   0   0   0   0   0   0   0   0   0   0   0   0   0\n",
      "    0   0   0   0   0   0   0   0   0   0   0   0   0   0   0   0   0   0\n",
      "    0   0   0   0   0   0   0   0   0   0   0   0   0   0   0   0   0   0\n",
      "    0   0   0   0   0   0   0   0   0   0   0   0   0   0   0   0   0   0\n",
      "    0   0   0   0   0   0   0   0   0   0   0   0   0   0   0   0   0   0\n",
      "    0   0   0   0   0   0   0   0   0   0   0   0   0   0   0   0   0   0\n",
      "    0   0   0   0   0   0   0   0  51 510 674  12   2 895   1  69  11   6\n",
      "   13  16  20   3   4]]\n",
      "1/1 - 0s - 41ms/step\n",
      "positive\n"
     ]
    }
   ],
   "source": [
    "#now testing  on a random sample from the Facebook comments on Kindle's page:\n",
    "cmnt = ['your customer service is the absolute worst i now have a mess of books on my kindle']\n",
    "#vectorizing the comment\n",
    "cmnt = tokenizer.texts_to_sequences(cmnt)\n",
    "cmnt = pad_sequences(cmnt, maxlen=203, dtype='int32', value=0)\n",
    "print(cmnt)\n",
    "sentiment = model.predict(cmnt,batch_size=2,verbose = 2)[0]\n",
    "if(np.argmax(sentiment) == 0):\n",
    "    print(\"negative\")\n",
    "elif (np.argmax(sentiment) == 1):\n",
    "    print(\"positive\")"
   ]
  },
  {
   "cell_type": "code",
   "execution_count": null,
   "id": "519d1880-4c40-4f47-92c4-f5a47251509a",
   "metadata": {},
   "outputs": [],
   "source": [
    "What went wrong?\n",
    "\n",
    "Our sample size for the training-, and test set was in fact quite small (under 1000 comments), and the proportion of negative to positive comments \n",
    "was skewed about 1 to 9. So the algorithm was not really optimized on the basis of our data. This is the reason for the algorithm choosing the wrong \n",
    "sentiment in the sample-test above."
   ]
  }
 ],
 "metadata": {
  "kernelspec": {
   "display_name": "Python 3 (ipykernel)",
   "language": "python",
   "name": "python3"
  },
  "language_info": {
   "codemirror_mode": {
    "name": "ipython",
    "version": 3
   },
   "file_extension": ".py",
   "mimetype": "text/x-python",
   "name": "python",
   "nbconvert_exporter": "python",
   "pygments_lexer": "ipython3",
   "version": "3.12.4"
  }
 },
 "nbformat": 4,
 "nbformat_minor": 5
}
